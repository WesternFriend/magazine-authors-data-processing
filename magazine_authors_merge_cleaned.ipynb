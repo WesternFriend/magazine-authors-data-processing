{
 "cells": [
  {
   "cell_type": "code",
   "execution_count": 31,
   "metadata": {
    "tags": []
   },
   "outputs": [],
   "source": [
    "from datetime import datetime\n",
    "import pandas as pd"
   ]
  },
  {
   "cell_type": "markdown",
   "metadata": {},
   "source": [
    "## Load data"
   ]
  },
  {
   "cell_type": "code",
   "execution_count": 32,
   "metadata": {
    "tags": []
   },
   "outputs": [],
   "source": [
    "cleaned_deduped_authors_filename = \"data/MCK-CX_2022-10-09magazine_authors_newly_merged.csv\"\n",
    "newly_parsed_authors_filename = \"data/magazine_authors_parsed.csv\"\n",
    "newly_merged_authors_filename = \"data/magazine_authors-2023-03-25-merged.csv\""
   ]
  },
  {
   "cell_type": "code",
   "execution_count": 33,
   "metadata": {
    "tags": []
   },
   "outputs": [],
   "source": [
    "cleaned_deduped_authors = pd.read_csv(cleaned_deduped_authors_filename)"
   ]
  },
  {
   "cell_type": "code",
   "execution_count": 34,
   "metadata": {
    "tags": []
   },
   "outputs": [
    {
     "data": {
      "text/html": [
       "<div>\n",
       "<style scoped>\n",
       "    .dataframe tbody tr th:only-of-type {\n",
       "        vertical-align: middle;\n",
       "    }\n",
       "\n",
       "    .dataframe tbody tr th {\n",
       "        vertical-align: top;\n",
       "    }\n",
       "\n",
       "    .dataframe thead th {\n",
       "        text-align: right;\n",
       "    }\n",
       "</style>\n",
       "<table border=\"1\" class=\"dataframe\">\n",
       "  <thead>\n",
       "    <tr style=\"text-align: right;\">\n",
       "      <th></th>\n",
       "      <th>drupal_full_name</th>\n",
       "      <th>drupal_author_id</th>\n",
       "      <th>duplicate of ID</th>\n",
       "      <th>given_name</th>\n",
       "      <th>family_name</th>\n",
       "      <th>organization_name</th>\n",
       "      <th>meeting_name</th>\n",
       "      <th>Notes</th>\n",
       "    </tr>\n",
       "  </thead>\n",
       "  <tbody>\n",
       "    <tr>\n",
       "      <th>0</th>\n",
       "      <td>Carl Abbott</td>\n",
       "      <td>1352</td>\n",
       "      <td>NaN</td>\n",
       "      <td>Carl</td>\n",
       "      <td>Abbott</td>\n",
       "      <td>NaN</td>\n",
       "      <td>NaN</td>\n",
       "      <td>NaN</td>\n",
       "    </tr>\n",
       "    <tr>\n",
       "      <th>1</th>\n",
       "      <td>Marge Abbott</td>\n",
       "      <td>2931</td>\n",
       "      <td>343.0</td>\n",
       "      <td>Margery Post</td>\n",
       "      <td>Abbott</td>\n",
       "      <td>NaN</td>\n",
       "      <td>NaN</td>\n",
       "      <td>NaN</td>\n",
       "    </tr>\n",
       "    <tr>\n",
       "      <th>2</th>\n",
       "      <td>Margery  Post Abbott</td>\n",
       "      <td>3430</td>\n",
       "      <td>343.0</td>\n",
       "      <td>Margery Post</td>\n",
       "      <td>Abbott</td>\n",
       "      <td>NaN</td>\n",
       "      <td>NaN</td>\n",
       "      <td>NaN</td>\n",
       "    </tr>\n",
       "    <tr>\n",
       "      <th>3</th>\n",
       "      <td>Margery Abbott</td>\n",
       "      <td>3267</td>\n",
       "      <td>343.0</td>\n",
       "      <td>Margery Post</td>\n",
       "      <td>Abbott</td>\n",
       "      <td>NaN</td>\n",
       "      <td>NaN</td>\n",
       "      <td>NaN</td>\n",
       "    </tr>\n",
       "    <tr>\n",
       "      <th>4</th>\n",
       "      <td>Margery Post Abbott</td>\n",
       "      <td>343</td>\n",
       "      <td>NaN</td>\n",
       "      <td>Margery Post</td>\n",
       "      <td>Abbott</td>\n",
       "      <td>NaN</td>\n",
       "      <td>NaN</td>\n",
       "      <td>NaN</td>\n",
       "    </tr>\n",
       "  </tbody>\n",
       "</table>\n",
       "</div>"
      ],
      "text/plain": [
       "       drupal_full_name  drupal_author_id  duplicate of ID    given_name  \\\n",
       "0           Carl Abbott              1352              NaN          Carl   \n",
       "1          Marge Abbott              2931            343.0  Margery Post   \n",
       "2  Margery  Post Abbott              3430            343.0  Margery Post   \n",
       "3        Margery Abbott              3267            343.0  Margery Post   \n",
       "4   Margery Post Abbott               343              NaN  Margery Post   \n",
       "\n",
       "  family_name organization_name meeting_name Notes  \n",
       "0      Abbott               NaN          NaN   NaN  \n",
       "1      Abbott               NaN          NaN   NaN  \n",
       "2      Abbott               NaN          NaN   NaN  \n",
       "3      Abbott               NaN          NaN   NaN  \n",
       "4      Abbott               NaN          NaN   NaN  "
      ]
     },
     "execution_count": 34,
     "metadata": {},
     "output_type": "execute_result"
    }
   ],
   "source": [
    "cleaned_deduped_authors.head()"
   ]
  },
  {
   "cell_type": "code",
   "execution_count": 35,
   "metadata": {
    "tags": []
   },
   "outputs": [
    {
     "data": {
      "text/plain": [
       "(2774, 8)"
      ]
     },
     "execution_count": 35,
     "metadata": {},
     "output_type": "execute_result"
    }
   ],
   "source": [
    "cleaned_deduped_authors.shape"
   ]
  },
  {
   "cell_type": "code",
   "execution_count": 36,
   "metadata": {
    "tags": []
   },
   "outputs": [],
   "source": [
    "newly_parsed_authors = pd.read_csv(newly_parsed_authors_filename)"
   ]
  },
  {
   "cell_type": "code",
   "execution_count": 37,
   "metadata": {
    "tags": []
   },
   "outputs": [
    {
     "data": {
      "text/html": [
       "<div>\n",
       "<style scoped>\n",
       "    .dataframe tbody tr th:only-of-type {\n",
       "        vertical-align: middle;\n",
       "    }\n",
       "\n",
       "    .dataframe tbody tr th {\n",
       "        vertical-align: top;\n",
       "    }\n",
       "\n",
       "    .dataframe thead th {\n",
       "        text-align: right;\n",
       "    }\n",
       "</style>\n",
       "<table border=\"1\" class=\"dataframe\">\n",
       "  <thead>\n",
       "    <tr style=\"text-align: right;\">\n",
       "      <th></th>\n",
       "      <th>given_name</th>\n",
       "      <th>family_name</th>\n",
       "      <th>drupal_full_name</th>\n",
       "      <th>drupal_author_id</th>\n",
       "      <th>civicrm_id</th>\n",
       "    </tr>\n",
       "  </thead>\n",
       "  <tbody>\n",
       "    <tr>\n",
       "      <th>0</th>\n",
       "      <td>A. N.</td>\n",
       "      <td>Whitehead</td>\n",
       "      <td>A. N. Whitehead</td>\n",
       "      <td>1832</td>\n",
       "      <td>NaN</td>\n",
       "    </tr>\n",
       "    <tr>\n",
       "      <th>1</th>\n",
       "      <td>A.</td>\n",
       "      <td>S.</td>\n",
       "      <td>A. S.</td>\n",
       "      <td>1597</td>\n",
       "      <td>NaN</td>\n",
       "    </tr>\n",
       "    <tr>\n",
       "      <th>2</th>\n",
       "      <td>A. Sidney</td>\n",
       "      <td>Wright</td>\n",
       "      <td>A. Sidney Wright</td>\n",
       "      <td>1789</td>\n",
       "      <td>NaN</td>\n",
       "    </tr>\n",
       "    <tr>\n",
       "      <th>3</th>\n",
       "      <td>A. Stanley</td>\n",
       "      <td>Thompson</td>\n",
       "      <td>A. Stanley Thompson</td>\n",
       "      <td>2801</td>\n",
       "      <td>NaN</td>\n",
       "    </tr>\n",
       "    <tr>\n",
       "      <th>4</th>\n",
       "      <td>A.F.</td>\n",
       "      <td>Anderson</td>\n",
       "      <td>A.F. Anderson</td>\n",
       "      <td>2615</td>\n",
       "      <td>NaN</td>\n",
       "    </tr>\n",
       "  </tbody>\n",
       "</table>\n",
       "</div>"
      ],
      "text/plain": [
       "   given_name family_name     drupal_full_name  drupal_author_id  civicrm_id\n",
       "0       A. N.   Whitehead      A. N. Whitehead              1832         NaN\n",
       "1          A.          S.                A. S.              1597         NaN\n",
       "2   A. Sidney      Wright     A. Sidney Wright              1789         NaN\n",
       "3  A. Stanley    Thompson  A. Stanley Thompson              2801         NaN\n",
       "4        A.F.    Anderson        A.F. Anderson              2615         NaN"
      ]
     },
     "execution_count": 37,
     "metadata": {},
     "output_type": "execute_result"
    }
   ],
   "source": [
    "newly_parsed_authors.head()"
   ]
  },
  {
   "cell_type": "code",
   "execution_count": 38,
   "metadata": {
    "tags": []
   },
   "outputs": [
    {
     "data": {
      "text/plain": [
       "(3106, 5)"
      ]
     },
     "execution_count": 38,
     "metadata": {},
     "output_type": "execute_result"
    }
   ],
   "source": [
    "newly_parsed_authors.shape"
   ]
  },
  {
   "cell_type": "markdown",
   "metadata": {},
   "source": [
    "## Merge new authors into existing spreadsheet\n",
    "\n",
    "We will use the Drupal ID to skip existing rows and add only new authors to the merged spreadsheet."
   ]
  },
  {
   "cell_type": "code",
   "execution_count": 39,
   "metadata": {
    "tags": []
   },
   "outputs": [],
   "source": [
    "# select newly parsed authors that are NOT in the cleaned deduped authors\n",
    "new_authors = newly_parsed_authors[~newly_parsed_authors[\"drupal_author_id\"].isin(cleaned_deduped_authors[\"drupal_author_id\"])]"
   ]
  },
  {
   "cell_type": "code",
   "execution_count": 40,
   "metadata": {
    "tags": []
   },
   "outputs": [
    {
     "data": {
      "text/html": [
       "<div>\n",
       "<style scoped>\n",
       "    .dataframe tbody tr th:only-of-type {\n",
       "        vertical-align: middle;\n",
       "    }\n",
       "\n",
       "    .dataframe tbody tr th {\n",
       "        vertical-align: top;\n",
       "    }\n",
       "\n",
       "    .dataframe thead th {\n",
       "        text-align: right;\n",
       "    }\n",
       "</style>\n",
       "<table border=\"1\" class=\"dataframe\">\n",
       "  <thead>\n",
       "    <tr style=\"text-align: right;\">\n",
       "      <th></th>\n",
       "      <th>given_name</th>\n",
       "      <th>family_name</th>\n",
       "      <th>drupal_full_name</th>\n",
       "      <th>drupal_author_id</th>\n",
       "      <th>civicrm_id</th>\n",
       "      <th>date_added_to_list</th>\n",
       "    </tr>\n",
       "  </thead>\n",
       "  <tbody>\n",
       "    <tr>\n",
       "      <th>5</th>\n",
       "      <td>Abiel</td>\n",
       "      <td>Locke</td>\n",
       "      <td>Abiel Locke</td>\n",
       "      <td>5455</td>\n",
       "      <td>NaN</td>\n",
       "      <td>2023-03-25</td>\n",
       "    </tr>\n",
       "    <tr>\n",
       "      <th>10</th>\n",
       "      <td>African Great Lakes Initiative of Friends Peace</td>\n",
       "      <td>Teams</td>\n",
       "      <td>African Great Lakes Initiative of Friends Peac...</td>\n",
       "      <td>5367</td>\n",
       "      <td>NaN</td>\n",
       "      <td>2023-03-25</td>\n",
       "    </tr>\n",
       "    <tr>\n",
       "      <th>11</th>\n",
       "      <td>NaN</td>\n",
       "      <td>AFSC</td>\n",
       "      <td>AFSC</td>\n",
       "      <td>5542</td>\n",
       "      <td>1506.0</td>\n",
       "      <td>2023-03-25</td>\n",
       "    </tr>\n",
       "    <tr>\n",
       "      <th>12</th>\n",
       "      <td>AFSC Leadership</td>\n",
       "      <td>Team</td>\n",
       "      <td>AFSC Leadership Team</td>\n",
       "      <td>5373</td>\n",
       "      <td>NaN</td>\n",
       "      <td>2023-03-25</td>\n",
       "    </tr>\n",
       "    <tr>\n",
       "      <th>13</th>\n",
       "      <td>AFSC Salem,</td>\n",
       "      <td>OR</td>\n",
       "      <td>AFSC Salem, OR</td>\n",
       "      <td>5543</td>\n",
       "      <td>670.0</td>\n",
       "      <td>2023-03-25</td>\n",
       "    </tr>\n",
       "    <tr>\n",
       "      <th>...</th>\n",
       "      <td>...</td>\n",
       "      <td>...</td>\n",
       "      <td>...</td>\n",
       "      <td>...</td>\n",
       "      <td>...</td>\n",
       "      <td>...</td>\n",
       "    </tr>\n",
       "    <tr>\n",
       "      <th>3086</th>\n",
       "      <td>Woodbrooke Quaker Study</td>\n",
       "      <td>Centre</td>\n",
       "      <td>Woodbrooke Quaker Study Centre</td>\n",
       "      <td>5705</td>\n",
       "      <td>1178.0</td>\n",
       "      <td>2023-03-25</td>\n",
       "    </tr>\n",
       "    <tr>\n",
       "      <th>3087</th>\n",
       "      <td>Working Group on Right Relationship with</td>\n",
       "      <td>Animals</td>\n",
       "      <td>Working Group on Right Relationship with Animals</td>\n",
       "      <td>5473</td>\n",
       "      <td>NaN</td>\n",
       "      <td>2023-03-25</td>\n",
       "    </tr>\n",
       "    <tr>\n",
       "      <th>3088</th>\n",
       "      <td>World Beyond</td>\n",
       "      <td>War</td>\n",
       "      <td>World Beyond War</td>\n",
       "      <td>5451</td>\n",
       "      <td>NaN</td>\n",
       "      <td>2023-03-25</td>\n",
       "    </tr>\n",
       "    <tr>\n",
       "      <th>3090</th>\n",
       "      <td>Wyoming Friends</td>\n",
       "      <td>Meeting</td>\n",
       "      <td>Wyoming Friends Meeting</td>\n",
       "      <td>5706</td>\n",
       "      <td>45.0</td>\n",
       "      <td>2023-03-25</td>\n",
       "    </tr>\n",
       "    <tr>\n",
       "      <th>3097</th>\n",
       "      <td>Yongo Otieno</td>\n",
       "      <td>Wycliffe</td>\n",
       "      <td>Yongo Otieno Wycliffe</td>\n",
       "      <td>5405</td>\n",
       "      <td>NaN</td>\n",
       "      <td>2023-03-25</td>\n",
       "    </tr>\n",
       "  </tbody>\n",
       "</table>\n",
       "<p>332 rows × 6 columns</p>\n",
       "</div>"
      ],
      "text/plain": [
       "                                           given_name family_name  \\\n",
       "5                                               Abiel       Locke   \n",
       "10    African Great Lakes Initiative of Friends Peace       Teams   \n",
       "11                                                NaN        AFSC   \n",
       "12                                    AFSC Leadership        Team   \n",
       "13                                        AFSC Salem,          OR   \n",
       "...                                               ...         ...   \n",
       "3086                          Woodbrooke Quaker Study      Centre   \n",
       "3087         Working Group on Right Relationship with     Animals   \n",
       "3088                                     World Beyond         War   \n",
       "3090                                  Wyoming Friends     Meeting   \n",
       "3097                                     Yongo Otieno    Wycliffe   \n",
       "\n",
       "                                       drupal_full_name  drupal_author_id  \\\n",
       "5                                           Abiel Locke              5455   \n",
       "10    African Great Lakes Initiative of Friends Peac...              5367   \n",
       "11                                                 AFSC              5542   \n",
       "12                                 AFSC Leadership Team              5373   \n",
       "13                                       AFSC Salem, OR              5543   \n",
       "...                                                 ...               ...   \n",
       "3086                     Woodbrooke Quaker Study Centre              5705   \n",
       "3087   Working Group on Right Relationship with Animals              5473   \n",
       "3088                                   World Beyond War              5451   \n",
       "3090                            Wyoming Friends Meeting              5706   \n",
       "3097                              Yongo Otieno Wycliffe              5405   \n",
       "\n",
       "      civicrm_id date_added_to_list  \n",
       "5            NaN         2023-03-25  \n",
       "10           NaN         2023-03-25  \n",
       "11        1506.0         2023-03-25  \n",
       "12           NaN         2023-03-25  \n",
       "13         670.0         2023-03-25  \n",
       "...          ...                ...  \n",
       "3086      1178.0         2023-03-25  \n",
       "3087         NaN         2023-03-25  \n",
       "3088         NaN         2023-03-25  \n",
       "3090        45.0         2023-03-25  \n",
       "3097         NaN         2023-03-25  \n",
       "\n",
       "[332 rows x 6 columns]"
      ]
     },
     "execution_count": 40,
     "metadata": {},
     "output_type": "execute_result"
    }
   ],
   "source": [
    "# Add a column to show the date new authors were added to the CSV\n",
    "date_today = datetime.today().strftime('%Y-%m-%d')\n",
    "new_authors.assign(date_added_to_list=date_today)"
   ]
  },
  {
   "cell_type": "code",
   "execution_count": 41,
   "metadata": {
    "tags": []
   },
   "outputs": [],
   "source": [
    "# Clear out any previous added date\n",
    "cleaned_deduped_authors = cleaned_deduped_authors.assign(date_added_to_list=None)"
   ]
  },
  {
   "cell_type": "code",
   "execution_count": 42,
   "metadata": {
    "tags": []
   },
   "outputs": [],
   "source": [
    "# TODO: determine why date_added_to_list column isn't included in the newly merged authors for export\n",
    "newly_merged_authors_for_export = pd.concat([cleaned_deduped_authors, new_authors])"
   ]
  },
  {
   "cell_type": "code",
   "execution_count": 43,
   "metadata": {
    "tags": []
   },
   "outputs": [
    {
     "data": {
      "text/html": [
       "<div>\n",
       "<style scoped>\n",
       "    .dataframe tbody tr th:only-of-type {\n",
       "        vertical-align: middle;\n",
       "    }\n",
       "\n",
       "    .dataframe tbody tr th {\n",
       "        vertical-align: top;\n",
       "    }\n",
       "\n",
       "    .dataframe thead th {\n",
       "        text-align: right;\n",
       "    }\n",
       "</style>\n",
       "<table border=\"1\" class=\"dataframe\">\n",
       "  <thead>\n",
       "    <tr style=\"text-align: right;\">\n",
       "      <th></th>\n",
       "      <th>drupal_full_name</th>\n",
       "      <th>drupal_author_id</th>\n",
       "      <th>duplicate of ID</th>\n",
       "      <th>given_name</th>\n",
       "      <th>family_name</th>\n",
       "      <th>organization_name</th>\n",
       "      <th>meeting_name</th>\n",
       "      <th>Notes</th>\n",
       "      <th>date_added_to_list</th>\n",
       "      <th>civicrm_id</th>\n",
       "    </tr>\n",
       "  </thead>\n",
       "  <tbody>\n",
       "    <tr>\n",
       "      <th>0</th>\n",
       "      <td>Carl Abbott</td>\n",
       "      <td>1352</td>\n",
       "      <td>NaN</td>\n",
       "      <td>Carl</td>\n",
       "      <td>Abbott</td>\n",
       "      <td>NaN</td>\n",
       "      <td>NaN</td>\n",
       "      <td>NaN</td>\n",
       "      <td>None</td>\n",
       "      <td>NaN</td>\n",
       "    </tr>\n",
       "    <tr>\n",
       "      <th>1</th>\n",
       "      <td>Marge Abbott</td>\n",
       "      <td>2931</td>\n",
       "      <td>343.0</td>\n",
       "      <td>Margery Post</td>\n",
       "      <td>Abbott</td>\n",
       "      <td>NaN</td>\n",
       "      <td>NaN</td>\n",
       "      <td>NaN</td>\n",
       "      <td>None</td>\n",
       "      <td>NaN</td>\n",
       "    </tr>\n",
       "    <tr>\n",
       "      <th>2</th>\n",
       "      <td>Margery  Post Abbott</td>\n",
       "      <td>3430</td>\n",
       "      <td>343.0</td>\n",
       "      <td>Margery Post</td>\n",
       "      <td>Abbott</td>\n",
       "      <td>NaN</td>\n",
       "      <td>NaN</td>\n",
       "      <td>NaN</td>\n",
       "      <td>None</td>\n",
       "      <td>NaN</td>\n",
       "    </tr>\n",
       "    <tr>\n",
       "      <th>3</th>\n",
       "      <td>Margery Abbott</td>\n",
       "      <td>3267</td>\n",
       "      <td>343.0</td>\n",
       "      <td>Margery Post</td>\n",
       "      <td>Abbott</td>\n",
       "      <td>NaN</td>\n",
       "      <td>NaN</td>\n",
       "      <td>NaN</td>\n",
       "      <td>None</td>\n",
       "      <td>NaN</td>\n",
       "    </tr>\n",
       "    <tr>\n",
       "      <th>4</th>\n",
       "      <td>Margery Post Abbott</td>\n",
       "      <td>343</td>\n",
       "      <td>NaN</td>\n",
       "      <td>Margery Post</td>\n",
       "      <td>Abbott</td>\n",
       "      <td>NaN</td>\n",
       "      <td>NaN</td>\n",
       "      <td>NaN</td>\n",
       "      <td>None</td>\n",
       "      <td>NaN</td>\n",
       "    </tr>\n",
       "    <tr>\n",
       "      <th>...</th>\n",
       "      <td>...</td>\n",
       "      <td>...</td>\n",
       "      <td>...</td>\n",
       "      <td>...</td>\n",
       "      <td>...</td>\n",
       "      <td>...</td>\n",
       "      <td>...</td>\n",
       "      <td>...</td>\n",
       "      <td>...</td>\n",
       "      <td>...</td>\n",
       "    </tr>\n",
       "    <tr>\n",
       "      <th>3086</th>\n",
       "      <td>Woodbrooke Quaker Study Centre</td>\n",
       "      <td>5705</td>\n",
       "      <td>NaN</td>\n",
       "      <td>Woodbrooke Quaker Study</td>\n",
       "      <td>Centre</td>\n",
       "      <td>NaN</td>\n",
       "      <td>NaN</td>\n",
       "      <td>NaN</td>\n",
       "      <td>NaN</td>\n",
       "      <td>1178.0</td>\n",
       "    </tr>\n",
       "    <tr>\n",
       "      <th>3087</th>\n",
       "      <td>Working Group on Right Relationship with Animals</td>\n",
       "      <td>5473</td>\n",
       "      <td>NaN</td>\n",
       "      <td>Working Group on Right Relationship with</td>\n",
       "      <td>Animals</td>\n",
       "      <td>NaN</td>\n",
       "      <td>NaN</td>\n",
       "      <td>NaN</td>\n",
       "      <td>NaN</td>\n",
       "      <td>NaN</td>\n",
       "    </tr>\n",
       "    <tr>\n",
       "      <th>3088</th>\n",
       "      <td>World Beyond War</td>\n",
       "      <td>5451</td>\n",
       "      <td>NaN</td>\n",
       "      <td>World Beyond</td>\n",
       "      <td>War</td>\n",
       "      <td>NaN</td>\n",
       "      <td>NaN</td>\n",
       "      <td>NaN</td>\n",
       "      <td>NaN</td>\n",
       "      <td>NaN</td>\n",
       "    </tr>\n",
       "    <tr>\n",
       "      <th>3090</th>\n",
       "      <td>Wyoming Friends Meeting</td>\n",
       "      <td>5706</td>\n",
       "      <td>NaN</td>\n",
       "      <td>Wyoming Friends</td>\n",
       "      <td>Meeting</td>\n",
       "      <td>NaN</td>\n",
       "      <td>NaN</td>\n",
       "      <td>NaN</td>\n",
       "      <td>NaN</td>\n",
       "      <td>45.0</td>\n",
       "    </tr>\n",
       "    <tr>\n",
       "      <th>3097</th>\n",
       "      <td>Yongo Otieno Wycliffe</td>\n",
       "      <td>5405</td>\n",
       "      <td>NaN</td>\n",
       "      <td>Yongo Otieno</td>\n",
       "      <td>Wycliffe</td>\n",
       "      <td>NaN</td>\n",
       "      <td>NaN</td>\n",
       "      <td>NaN</td>\n",
       "      <td>NaN</td>\n",
       "      <td>NaN</td>\n",
       "    </tr>\n",
       "  </tbody>\n",
       "</table>\n",
       "<p>3106 rows × 10 columns</p>\n",
       "</div>"
      ],
      "text/plain": [
       "                                      drupal_full_name  drupal_author_id  \\\n",
       "0                                          Carl Abbott              1352   \n",
       "1                                         Marge Abbott              2931   \n",
       "2                                 Margery  Post Abbott              3430   \n",
       "3                                       Margery Abbott              3267   \n",
       "4                                  Margery Post Abbott               343   \n",
       "...                                                ...               ...   \n",
       "3086                    Woodbrooke Quaker Study Centre              5705   \n",
       "3087  Working Group on Right Relationship with Animals              5473   \n",
       "3088                                  World Beyond War              5451   \n",
       "3090                           Wyoming Friends Meeting              5706   \n",
       "3097                             Yongo Otieno Wycliffe              5405   \n",
       "\n",
       "      duplicate of ID                                given_name family_name  \\\n",
       "0                 NaN                                      Carl      Abbott   \n",
       "1               343.0                              Margery Post      Abbott   \n",
       "2               343.0                              Margery Post      Abbott   \n",
       "3               343.0                              Margery Post      Abbott   \n",
       "4                 NaN                              Margery Post      Abbott   \n",
       "...               ...                                       ...         ...   \n",
       "3086              NaN                   Woodbrooke Quaker Study      Centre   \n",
       "3087              NaN  Working Group on Right Relationship with     Animals   \n",
       "3088              NaN                              World Beyond         War   \n",
       "3090              NaN                           Wyoming Friends     Meeting   \n",
       "3097              NaN                              Yongo Otieno    Wycliffe   \n",
       "\n",
       "     organization_name meeting_name Notes date_added_to_list  civicrm_id  \n",
       "0                  NaN          NaN   NaN               None         NaN  \n",
       "1                  NaN          NaN   NaN               None         NaN  \n",
       "2                  NaN          NaN   NaN               None         NaN  \n",
       "3                  NaN          NaN   NaN               None         NaN  \n",
       "4                  NaN          NaN   NaN               None         NaN  \n",
       "...                ...          ...   ...                ...         ...  \n",
       "3086               NaN          NaN   NaN                NaN      1178.0  \n",
       "3087               NaN          NaN   NaN                NaN         NaN  \n",
       "3088               NaN          NaN   NaN                NaN         NaN  \n",
       "3090               NaN          NaN   NaN                NaN        45.0  \n",
       "3097               NaN          NaN   NaN                NaN         NaN  \n",
       "\n",
       "[3106 rows x 10 columns]"
      ]
     },
     "execution_count": 43,
     "metadata": {},
     "output_type": "execute_result"
    }
   ],
   "source": [
    "newly_merged_authors_for_export"
   ]
  },
  {
   "cell_type": "code",
   "execution_count": 44,
   "metadata": {
    "tags": []
   },
   "outputs": [],
   "source": [
    "newly_merged_authors_for_export.sort_values(by=\"drupal_full_name\", inplace=True)"
   ]
  },
  {
   "cell_type": "code",
   "execution_count": 45,
   "metadata": {
    "tags": []
   },
   "outputs": [],
   "source": [
    "# make sure the row counts match\n",
    "assert new_authors.shape[0] + cleaned_deduped_authors.shape[0] == newly_merged_authors_for_export.shape[0]"
   ]
  },
  {
   "cell_type": "markdown",
   "metadata": {},
   "source": [
    "## Export"
   ]
  },
  {
   "cell_type": "code",
   "execution_count": 46,
   "metadata": {
    "tags": []
   },
   "outputs": [],
   "source": [
    "newly_merged_authors_for_export.to_csv(newly_merged_authors_filename, index=False)"
   ]
  },
  {
   "cell_type": "code",
   "execution_count": null,
   "metadata": {},
   "outputs": [],
   "source": []
  }
 ],
 "metadata": {
  "kernelspec": {
   "display_name": "Python 3 (ipykernel)",
   "language": "python",
   "name": "python3"
  },
  "language_info": {
   "codemirror_mode": {
    "name": "ipython",
    "version": 3
   },
   "file_extension": ".py",
   "mimetype": "text/x-python",
   "name": "python",
   "nbconvert_exporter": "python",
   "pygments_lexer": "ipython3",
   "version": "3.11.1"
  },
  "vscode": {
   "interpreter": {
    "hash": "7ef637ac01b287f33c3e5e1411200011e098537af1286f40ad77c2a7db109a89"
   }
  }
 },
 "nbformat": 4,
 "nbformat_minor": 4
}
