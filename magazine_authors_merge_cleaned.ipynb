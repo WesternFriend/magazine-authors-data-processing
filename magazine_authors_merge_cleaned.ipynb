{
 "cells": [
  {
   "cell_type": "code",
   "execution_count": 1,
   "metadata": {},
   "outputs": [],
   "source": [
    "import pandas as pd"
   ]
  },
  {
   "cell_type": "code",
   "execution_count": 19,
   "metadata": {},
   "outputs": [],
   "source": [
    "authors = pd.read_csv(\"authors_cleaned_deduped-2020-04-12.csv\", index_col=\"drupal_full_name\")"
   ]
  },
  {
   "cell_type": "code",
   "execution_count": 20,
   "metadata": {},
   "outputs": [
    {
     "data": {
      "text/html": [
       "<div>\n",
       "<style scoped>\n",
       "    .dataframe tbody tr th:only-of-type {\n",
       "        vertical-align: middle;\n",
       "    }\n",
       "\n",
       "    .dataframe tbody tr th {\n",
       "        vertical-align: top;\n",
       "    }\n",
       "\n",
       "    .dataframe thead th {\n",
       "        text-align: right;\n",
       "    }\n",
       "</style>\n",
       "<table border=\"1\" class=\"dataframe\">\n",
       "  <thead>\n",
       "    <tr style=\"text-align: right;\">\n",
       "      <th></th>\n",
       "      <th>given_name</th>\n",
       "      <th>family_name</th>\n",
       "      <th>corrected_given_name</th>\n",
       "      <th>corrected_family_name</th>\n",
       "      <th>organization_name</th>\n",
       "      <th>meeting_name</th>\n",
       "      <th>Notes</th>\n",
       "    </tr>\n",
       "    <tr>\n",
       "      <th>drupal_full_name</th>\n",
       "      <th></th>\n",
       "      <th></th>\n",
       "      <th></th>\n",
       "      <th></th>\n",
       "      <th></th>\n",
       "      <th></th>\n",
       "      <th></th>\n",
       "    </tr>\n",
       "  </thead>\n",
       "  <tbody>\n",
       "    <tr>\n",
       "      <th>'Spirit' Donna Bradley</th>\n",
       "      <td>'Spirit' Donna</td>\n",
       "      <td>Bradley</td>\n",
       "      <td>Donna</td>\n",
       "      <td>Bradley</td>\n",
       "      <td>NaN</td>\n",
       "      <td>NaN</td>\n",
       "      <td>NaN</td>\n",
       "    </tr>\n",
       "    <tr>\n",
       "      <th>17</th>\n",
       "      <td>NaN</td>\n",
       "      <td>NaN</td>\n",
       "      <td>NaN</td>\n",
       "      <td>NaN</td>\n",
       "      <td>NaN</td>\n",
       "      <td>Pacific Yearly Meeting</td>\n",
       "      <td>added info in column G on 4/12/2020</td>\n",
       "    </tr>\n",
       "    <tr>\n",
       "      <th>A. N. Whitehead</th>\n",
       "      <td>A. N.</td>\n",
       "      <td>Whitehead</td>\n",
       "      <td>NaN</td>\n",
       "      <td>NaN</td>\n",
       "      <td>NaN</td>\n",
       "      <td>NaN</td>\n",
       "      <td>NaN</td>\n",
       "    </tr>\n",
       "    <tr>\n",
       "      <th>A. S.</th>\n",
       "      <td>A.</td>\n",
       "      <td>S.</td>\n",
       "      <td>NaN</td>\n",
       "      <td>Anonymous</td>\n",
       "      <td>NaN</td>\n",
       "      <td>NaN</td>\n",
       "      <td>NaN</td>\n",
       "    </tr>\n",
       "    <tr>\n",
       "      <th>A. Sidney Wright</th>\n",
       "      <td>A. Sidney</td>\n",
       "      <td>Wright</td>\n",
       "      <td>NaN</td>\n",
       "      <td>NaN</td>\n",
       "      <td>NaN</td>\n",
       "      <td>NaN</td>\n",
       "      <td>NaN</td>\n",
       "    </tr>\n",
       "  </tbody>\n",
       "</table>\n",
       "</div>"
      ],
      "text/plain": [
       "                            given_name family_name corrected_given_name  \\\n",
       "drupal_full_name                                                          \n",
       "'Spirit' Donna Bradley  'Spirit' Donna     Bradley                Donna   \n",
       "17                                 NaN         NaN                  NaN   \n",
       "A. N. Whitehead                  A. N.   Whitehead                  NaN   \n",
       "A. S.                               A.          S.                  NaN   \n",
       "A. Sidney Wright             A. Sidney      Wright                  NaN   \n",
       "\n",
       "                       corrected_family_name organization_name  \\\n",
       "drupal_full_name                                                 \n",
       "'Spirit' Donna Bradley               Bradley               NaN   \n",
       "17                                       NaN               NaN   \n",
       "A. N. Whitehead                          NaN               NaN   \n",
       "A. S.                              Anonymous               NaN   \n",
       "A. Sidney Wright                         NaN               NaN   \n",
       "\n",
       "                                  meeting_name  \\\n",
       "drupal_full_name                                 \n",
       "'Spirit' Donna Bradley                     NaN   \n",
       "17                      Pacific Yearly Meeting   \n",
       "A. N. Whitehead                            NaN   \n",
       "A. S.                                      NaN   \n",
       "A. Sidney Wright                           NaN   \n",
       "\n",
       "                                                      Notes  \n",
       "drupal_full_name                                             \n",
       "'Spirit' Donna Bradley                                  NaN  \n",
       "17                      added info in column G on 4/12/2020  \n",
       "A. N. Whitehead                                         NaN  \n",
       "A. S.                                                   NaN  \n",
       "A. Sidney Wright                                        NaN  "
      ]
     },
     "execution_count": 20,
     "metadata": {},
     "output_type": "execute_result"
    }
   ],
   "source": [
    "authors.head()"
   ]
  },
  {
   "cell_type": "code",
   "execution_count": 4,
   "metadata": {},
   "outputs": [],
   "source": [
    "articles = pd.read_csv(\"articles.csv\")"
   ]
  },
  {
   "cell_type": "code",
   "execution_count": 6,
   "metadata": {},
   "outputs": [
    {
     "data": {
      "text/plain": [
       "(2649, 7)"
      ]
     },
     "execution_count": 6,
     "metadata": {},
     "output_type": "execute_result"
    }
   ],
   "source": [
    "authors.shape"
   ]
  },
  {
   "cell_type": "code",
   "execution_count": 5,
   "metadata": {},
   "outputs": [
    {
     "data": {
      "text/plain": [
       "(914, 6)"
      ]
     },
     "execution_count": 5,
     "metadata": {},
     "output_type": "execute_result"
    }
   ],
   "source": [
    "articles.shape"
   ]
  },
  {
   "cell_type": "code",
   "execution_count": 7,
   "metadata": {},
   "outputs": [
    {
     "data": {
      "text/plain": [
       "Index(['title', 'Authors', 'Body', 'Department', 'Keywords', 'Media'], dtype='object')"
      ]
     },
     "execution_count": 7,
     "metadata": {},
     "output_type": "execute_result"
    }
   ],
   "source": [
    "articles.columns"
   ]
  },
  {
   "cell_type": "code",
   "execution_count": 9,
   "metadata": {},
   "outputs": [
    {
     "data": {
      "text/plain": [
       "0             Mary Klein\n",
       "1            Sara Keeney\n",
       "2     D. Pablo Stanfield\n",
       "3             Mary Klein\n",
       "4           Zae Asa Illo\n",
       "             ...        \n",
       "95          Sarah Malone\n",
       "96        Dan Strickland\n",
       "97           Yogi Sharma\n",
       "98          Julie Peyton\n",
       "99           Sue Lauther\n",
       "Name: Authors, Length: 100, dtype: object"
      ]
     },
     "execution_count": 9,
     "metadata": {},
     "output_type": "execute_result"
    }
   ],
   "source": [
    "articles[\"Authors\"].head(n=100)"
   ]
  },
  {
   "cell_type": "code",
   "execution_count": 10,
   "metadata": {},
   "outputs": [
    {
     "data": {
      "text/plain": [
       "title         object\n",
       "Authors       object\n",
       "Body          object\n",
       "Department    object\n",
       "Keywords      object\n",
       "Media         object\n",
       "dtype: object"
      ]
     },
     "execution_count": 10,
     "metadata": {},
     "output_type": "execute_result"
    }
   ],
   "source": [
    "articles.dtypes"
   ]
  },
  {
   "cell_type": "code",
   "execution_count": 15,
   "metadata": {},
   "outputs": [],
   "source": [
    "for authors in articles[\"Authors\"]:  \n",
    "    for author in authors.split(\", \"):\n",
    "        authors_mask = authors.index == \"Mary Klein\"\n",
    "        authors[authors_mask].iloc[0].to_dict()"
   ]
  },
  {
   "cell_type": "code",
   "execution_count": 41,
   "metadata": {},
   "outputs": [
    {
     "data": {
      "text/plain": [
       "{'given_name': 'Mary',\n",
       " 'family_name': 'Klein',\n",
       " 'corrected_given_name': nan,\n",
       " 'corrected_family_name': nan,\n",
       " 'organization_name': nan,\n",
       " 'meeting_name': nan,\n",
       " 'Notes': nan}"
      ]
     },
     "execution_count": 41,
     "metadata": {},
     "output_type": "execute_result"
    }
   ],
   "source": []
  },
  {
   "cell_type": "code",
   "execution_count": null,
   "metadata": {},
   "outputs": [],
   "source": []
  }
 ],
 "metadata": {
  "kernelspec": {
   "display_name": "Python 3",
   "language": "python",
   "name": "python3"
  },
  "language_info": {
   "codemirror_mode": {
    "name": "ipython",
    "version": 3
   },
   "file_extension": ".py",
   "mimetype": "text/x-python",
   "name": "python",
   "nbconvert_exporter": "python",
   "pygments_lexer": "ipython3",
   "version": "3.7.5"
  }
 },
 "nbformat": 4,
 "nbformat_minor": 4
}
